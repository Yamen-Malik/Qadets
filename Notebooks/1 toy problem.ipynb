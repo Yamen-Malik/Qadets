{
 "cells": [
  {
   "cell_type": "markdown",
   "metadata": {},
   "source": [
    "# Step 1: Toy Problem\n",
    "This notebook covers the basic implementation for our toy problem, we designed it with 4 qubits since it is a small enough circuit width to function as a building block, and also has enough qubits to run trotter step evolution."
   ]
  },
  {
   "cell_type": "code",
   "execution_count": 1,
   "metadata": {},
   "outputs": [],
   "source": [
    "from classiq import *\n",
    "from classiq.execution import ExecutionPreferences\n",
    "from math import pi"
   ]
  },
  {
   "cell_type": "code",
   "execution_count": 2,
   "metadata": {},
   "outputs": [],
   "source": [
    "TROTTER_STEPS = 1\n",
    "THETA_H = 0\n",
    "SHOTS = 100"
   ]
  },
  {
   "attachments": {
    "4-Qubit_Model.png": {
     "image/png": "[encoded data removed]"
    }
   },
   "cell_type": "markdown",
   "metadata": {},
   "source": [
    "Each type of connection between the qubits will have a certain type, representing the four different permutations of the S and CX gates. The connection with a single line will be covered in the first layer of the Trotter step, and connection with 2 lines will be covered in the second layer.\n",
    "\n",
    "![4-Qubit_Model.png](attachment:4-Qubit_Model.png)\n"
   ]
  },
  {
   "attachments": {
    "00aa1e6c-1883-4b83-9bb3-7cd0c3fbed5e.png": {
     "image/png": "[encoded data removed]"
    }
   },
   "cell_type": "markdown",
   "metadata": {},
   "source": [
    "Here, we implemented the $RZZ(-\\pi/2)$ gate from the paper using inverse S gates and control-not gates, the only difference being the square-root Y gate, which we evaluated to be the $RY(\\pi/2)$ gate.\n",
    "\n",
    "![RZZ gate from paper.png](attachment:00aa1e6c-1883-4b83-9bb3-7cd0c3fbed5e.png)\n",
    "\n",
    "RZZ Gate.\n",
    "From “Evidence for the utility of quantum computing before fault tolerance”, by Kim Youngseok, Andrew Eddings, et al., 2023, Nature, Vol 618, pg. 501, https://www.nature.com/articles/s41586-023-06096-3\n"
   ]
  },
  {
   "cell_type": "code",
   "execution_count": 3,
   "metadata": {},
   "outputs": [],
   "source": [
    "@qfunc\n",
    "def trotter_step(a: QBit, b: QBit, c: QBit, d: QBit):\n",
    "    # apply a rotation over the X axis on all qubits with an angle of theta_h\n",
    "    RX(THETA_H, a)\n",
    "    RX(THETA_H, b)\n",
    "    RX(THETA_H, c)\n",
    "    RX(THETA_H, d)\n",
    "\n",
    "    # first ZZ layer\n",
    "    invert(lambda: S(a))\n",
    "    invert(lambda: S(b))\n",
    "    within_apply(compute=lambda: RY(pi/2 ,b), action=lambda: CX(a, b))\n",
    "\n",
    "    invert(lambda: S(c))\n",
    "    invert(lambda: S(d))\n",
    "    within_apply(compute=lambda: RY(pi/2 ,d), action=lambda: CX(c, d))\n",
    "\n",
    "    # second ZZ layer\n",
    "    invert(lambda: S(a))\n",
    "    invert(lambda: S(c))\n",
    "    within_apply(compute=lambda: RY(pi/2 ,c), action=lambda: CX(a, c))\n",
    "\n",
    "    invert(lambda: S(b))\n",
    "    invert(lambda: S(d))\n",
    "    within_apply(compute=lambda: RY(pi/2 ,d), action=lambda: CX(b, d))\n",
    "\n",
    "\n",
    "@qfunc\n",
    "def trotterized_time_evolution(a: QBit, b: QBit, c: QBit, d: QBit):\n",
    "    for _ in range(TROTTER_STEPS):\n",
    "      trotter_step(a, b, c, d)\n",
    "\n",
    "@qfunc\n",
    "def main(expectation_value: Output[QBit]):\n",
    "    # initialize the 4 qubits\n",
    "    a = QBit(\"a\")\n",
    "    b = QBit(\"b\")\n",
    "    c = QBit(\"c\")\n",
    "    d = QBit(\"d\")\n",
    "\n",
    "    allocate(1, a)\n",
    "    allocate(1, b)\n",
    "    allocate(1, c)\n",
    "    allocate(1, d)\n",
    "\n",
    "    # setup for measurement of the expectation value\n",
    "    allocate(1, expectation_value)\n",
    "\n",
    "    within_apply(lambda: hadamard_transform(expectation_value), lambda: control(expectation_value, lambda: trotterized_time_evolution(a, b, c, d)))\n"
   ]
  },
  {
   "cell_type": "code",
   "execution_count": 4,
   "metadata": {},
   "outputs": [],
   "source": [
    "# Gets the counts of measuring the qubits in their respective states\n",
    "def synthesize_execute(shots: int):\n",
    "    quantum_model = set_execution_preferences(\n",
    "    create_model(main),\n",
    "    ExecutionPreferences(num_shots=shots),\n",
    "    )\n",
    "\n",
    "    quantum_program = synthesize(quantum_model)\n",
    "    job = execute(quantum_program)\n",
    "    results = job.result()[0].value.parsed_counts\n",
    "\n",
    "    return results\n",
    "\n",
    "# Evaluates the real part of expectation value\n",
    "def evaluate_real_part(shots):\n",
    "    print(f\"Executing with {shots} shots...\")\n",
    "    result = synthesize_execute(shots)\n",
    "\n",
    "    if result[0].state[\"expectation_value\"] == 0:\n",
    "        prob = result[0].shots / shots\n",
    "    else:\n",
    "        prob = result[1].shots / shots\n",
    "\n",
    "    print(f\"Measured 0 with probability of {prob*100:.3f}%\")\n",
    "\n",
    "    return 2*prob - 1"
   ]
  },
  {
   "cell_type": "code",
   "execution_count": 6,
   "metadata": {},
   "outputs": [
    {
     "name": "stdout",
     "output_type": "stream",
     "text": [
      "Executing with 100 shots...\n",
      "Measured 0 with probability of 100.000%\n",
      "Expectation value 1.0\n"
     ]
    }
   ],
   "source": [
    "# evaluate and print results\n",
    "value = evaluate_real_part(SHOTS)\n",
    "print(\"Expectation value\", value)"
   ]
  },
  {
   "cell_type": "markdown",
   "metadata": {},
   "source": [
    "Show diagram of the quantum circuit"
   ]
  },
  {
   "cell_type": "code",
   "execution_count": null,
   "metadata": {},
   "outputs": [],
   "source": [
    "qprog = synthesize(create_model(main))\n",
    "show(qprog)"
   ]
  }
 ],
 "metadata": {
  "kernelspec": {
   "display_name": "Python 3 (ipykernel)",
   "language": "python",
   "name": "python3"
  },
  "language_info": {
   "codemirror_mode": {
    "name": "ipython",
    "version": 3
   },
   "file_extension": ".py",
   "mimetype": "text/x-python",
   "name": "python",
   "nbconvert_exporter": "python",
   "pygments_lexer": "ipython3",
   "version": "3.11.9"
  }
 },
 "nbformat": 4,
 "nbformat_minor": 4
}
