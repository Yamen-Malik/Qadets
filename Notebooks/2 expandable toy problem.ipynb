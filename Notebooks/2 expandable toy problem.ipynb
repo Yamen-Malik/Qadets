{
 "cells": [
  {
   "cell_type": "markdown",
   "metadata": {},
   "source": [
    "# Step 2: Expanding on the Toy Problem\n",
    "This is the expandable version of our toy problem. Instead of 4 QBit instances, we now apply the gates to a QArray of 4 qubits, with the S gate being applied to all, and the Y-Rotation gate being applied to certain indexed qubits in the QArray."
   ]
  },
  {
   "cell_type": "code",
   "execution_count": 10,
   "metadata": {},
   "outputs": [],
   "source": [
    "from classiq import *\n",
    "from classiq.execution import ExecutionPreferences\n",
    "from math import pi"
   ]
  },
  {
   "cell_type": "code",
   "execution_count": 11,
   "metadata": {},
   "outputs": [],
   "source": [
    "TROTTER_STEPS = 1\n",
    "THETA_H = 0\n",
    "SHOTS = 100\n",
    "QUBITS = 4"
   ]
  },
  {
   "attachments": {
    "aa7ca0ae-960b-40da-8870-a68afce6f1db.png": {
     "image/png": "[encoded data removed]"
    }
   },
   "cell_type": "markdown",
   "metadata": {},
   "source": [
    "The trotter steps were coded by using the trotter decomposition of the time evolution operator in the paper:\n",
    "\n",
    "![Trotter Decomposition of Time Evolution Operator.png](attachment:aa7ca0ae-960b-40da-8870-a68afce6f1db.png)\n",
    "\n",
    "From “Evidence for the utility of quantum computing before fault tolerance”, by Kim Youngseok, Andrew Eddings, et al., 2023, Nature, Vol 618, pg. 501, https://www.nature.com/articles/s41586-023-06096-3"
   ]
  },
  {
   "cell_type": "code",
   "execution_count": 14,
   "metadata": {},
   "outputs": [],
   "source": [
    "@qfunc\n",
    "def trotter_step(arr: QArray[QBit]):\n",
    "    # apply a rotation over the X axis on all qubits with an angle of theta_h\n",
    "    apply_to_all(lambda q: RX(THETA_H, q), arr)\n",
    "\n",
    "    # first ZZ layer\n",
    "    apply_to_all(lambda q: invert(lambda: S(q)), arr)\n",
    "\n",
    "    within_apply(compute=lambda: RY(pi/2, arr[1]), action=lambda: CX(arr[0], arr[1]))\n",
    "    within_apply(compute=lambda: RY(pi/2, arr[3]), action=lambda: CX(arr[2], arr[3]))\n",
    "\n",
    "    # second ZZ layer\n",
    "    apply_to_all(lambda q: invert(lambda: S(q)), arr)\n",
    "\n",
    "    within_apply(compute=lambda: RY(pi/2, arr[2]), action=lambda: CX(arr[0], arr[2]))\n",
    "    within_apply(compute=lambda: RY(pi/2, arr[3]), action=lambda: CX(arr[1], arr[3]))\n",
    "\n",
    "\n",
    "# Trotterized time evolution function for the multi-qubit QArray\n",
    "@qfunc\n",
    "def trotterized_time_evolution(arr: QArray[QBit]):\n",
    "    for _ in range(TROTTER_STEPS):\n",
    "      trotter_step(arr)\n",
    "\n",
    "@qfunc\n",
    "def main(expectation_value: Output[QBit]):\n",
    "    # initialize the qubit register\n",
    "    arr = QArray(\"reg\")\n",
    "    allocate(QUBITS, arr)\n",
    "\n",
    "    # setup for measurement of the expectation value\n",
    "    allocate(1, expectation_value)\n",
    "\n",
    "    within_apply(lambda: hadamard_transform(expectation_value), lambda: control(expectation_value, lambda: trotterized_time_evolution(arr)))\n"
   ]
  },
  {
   "cell_type": "code",
   "execution_count": 16,
   "metadata": {},
   "outputs": [],
   "source": [
    "# Gets the counts of measuring the qubits in their respective states\n",
    "def synthesize_execute(shots: int):\n",
    "    quantum_model = set_execution_preferences(\n",
    "    create_model(main),\n",
    "    ExecutionPreferences(num_shots=shots),\n",
    "    )\n",
    "\n",
    "    quantum_program = synthesize(quantum_model)\n",
    "    job = execute(quantum_program)\n",
    "    results = job.result()[0].value.parsed_counts\n",
    "\n",
    "    return results\n",
    "\n",
    "# Evaluates the real part of expectation value\n",
    "def evaluate_real_part(shots):\n",
    "    print(f\"Executing with {shots} shots...\")\n",
    "    result = synthesize_execute(shots)\n",
    "\n",
    "    if result[0].state[\"expectation_value\"] == 0:\n",
    "        prob = result[0].shots / shots\n",
    "    else:\n",
    "        prob = result[1].shots / shots\n",
    "\n",
    "    print(f\"Measured 0 with probability of {prob*100:.3f}%\")\n",
    "\n",
    "    return 2*prob - 1"
   ]
  },
  {
   "cell_type": "markdown",
   "metadata": {},
   "source": [
    "This program ran with 100 shots, since this is still just the small width toy problem, we don't expect our results to change by much with more shots."
   ]
  },
  {
   "cell_type": "code",
   "execution_count": null,
   "metadata": {},
   "outputs": [],
   "source": [
    "# evaluate and print results\n",
    "value = evaluate_real_part(SHOTS)\n",
    "print(\"Expectation value:\", value)"
   ]
  },
  {
   "cell_type": "markdown",
   "metadata": {},
   "source": [
    "Show diagram of the quantum circuit"
   ]
  },
  {
   "cell_type": "code",
   "execution_count": null,
   "metadata": {},
   "outputs": [],
   "source": [
    "qprog = synthesize(create_model(main))\n",
    "show(qprog)"
   ]
  }
 ],
 "metadata": {
  "kernelspec": {
   "display_name": "Python 3 (ipykernel)",
   "language": "python",
   "name": "python3"
  },
  "language_info": {
   "codemirror_mode": {
    "name": "ipython",
    "version": 3
   },
   "file_extension": ".py",
   "mimetype": "text/x-python",
   "name": "python",
   "nbconvert_exporter": "python",
   "pygments_lexer": "ipython3",
   "version": "3.11.7"
  }
 },
 "nbformat": 4,
 "nbformat_minor": 4
}
