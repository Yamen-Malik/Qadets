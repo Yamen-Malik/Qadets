{
 "cells": [
  {
   "cell_type": "markdown",
   "metadata": {},
   "source": [
    "# Step 3: Fully Expandable Problem\n",
    "\n",
    "This notebook covers the code for our expandable solution with no noise mitigation. The expandable QArray we used for step 2 of the toy problem code now has 16 qubits, which can be increased further, with the same gate structure as before that expands across the entire qubit register instead of just 4 qubits."
   ]
  },
  {
   "cell_type": "code",
   "execution_count": 16,
   "metadata": {},
   "outputs": [],
   "source": [
    "from classiq import *\n",
    "from classiq.execution import ExecutionPreferences\n",
    "from math import pi"
   ]
  },
  {
   "cell_type": "code",
   "execution_count": 17,
   "metadata": {},
   "outputs": [],
   "source": [
    "TROTTER_STEPS = 4\n",
    "THETA_H = 0\n",
    "SHOTS = 100\n",
    "QUBITS = 16"
   ]
  },
  {
   "cell_type": "code",
   "execution_count": 24,
   "metadata": {},
   "outputs": [],
   "source": [
    "@qfunc\n",
    "def trotter_step(arr: QArray[QBit]):\n",
    "    # apply a rotation over the X axis on all qubits with an angle of theta_h\n",
    "    apply_to_all(lambda q: RX(THETA_H, q), arr)\n",
    "\n",
    "\n",
    "    apply_to_all(lambda q: invert(lambda: S(q)), arr)\n",
    "\n",
    "    for i in range(0, QUBITS-1, 2):\n",
    "        within_apply(compute=lambda: RY(pi/2, arr[i+1]), action=lambda: CX(arr[i], arr[i+1]))\n",
    "\n",
    "\n",
    "    apply_to_all(lambda q: invert(lambda: S(q)), arr)\n",
    "\n",
    "    for i in range(1, QUBITS, 2):\n",
    "        if i == QUBITS-1:\n",
    "            within_apply(compute=lambda: RY(pi/2, arr[i]), action=lambda: CX(arr[0], arr[i]))\n",
    "        else:\n",
    "            within_apply(compute=lambda: RY(pi/2, arr[i+1]), action=lambda: CX(arr[i], arr[i+1]))\n",
    "\n",
    "\n",
    "\n",
    "# Trotterized time evolution function for the multi-qubit QArray\n",
    "@qfunc\n",
    "def trotterized_time_evolution(arr: QArray[QBit]):\n",
    "    for _ in range(TROTTER_STEPS):\n",
    "      trotter_step(arr)\n",
    "\n",
    "@qfunc\n",
    "def main(expectation_value: Output[QBit]):\n",
    "    # initialize the qubit register\n",
    "    arr = QArray(\"reg\")\n",
    "    allocate(QUBITS, arr)\n",
    "\n",
    "\n",
    "    # setup for measurement of the expectation value\n",
    "    allocate(1, expectation_value)\n",
    "\n",
    "    within_apply(lambda: hadamard_transform(expectation_value), lambda: control(expectation_value, lambda: trotterized_time_evolution(arr)))\n"
   ]
  },
  {
   "cell_type": "code",
   "execution_count": 26,
   "metadata": {},
   "outputs": [],
   "source": [
    "# Gets the counts of measuring the qubits in their respective states\n",
    "def synthesize_execute(shots: int):\n",
    "    quantum_model = set_execution_preferences(\n",
    "    create_model(main),\n",
    "    ExecutionPreferences(num_shots=shots),\n",
    "    )\n",
    "\n",
    "    quantum_program = synthesize(quantum_model)\n",
    "    job = execute(quantum_program)\n",
    "    results = job.result()[0].value.parsed_counts\n",
    "\n",
    "    return results\n",
    "\n",
    "# Evaluates the real part of expectation value\n",
    "def evaluate_real_part(shots):\n",
    "    print(f\"Executing with {shots} shots...\")\n",
    "    result = synthesize_execute(shots)\n",
    "\n",
    "    if result[0].state[\"expectation_value\"] == 0:\n",
    "        prob = result[0].shots / shots\n",
    "    else:\n",
    "        prob = result[1].shots / shots\n",
    "\n",
    "    print(f\"Measured 0 with probability of {prob*100:.3f}%\")\n",
    "\n",
    "    return 2*prob - 1"
   ]
  },
  {
   "cell_type": "markdown",
   "metadata": {},
   "source": [
    "One important point to note is that `THETA_H` being set to zero basically means that the transverse magnetic field was not included in the simulation up to this point, because in the second page of the paper, the third average magnetization plot had multiple data points for an average magnetization of around 1."
   ]
  },
  {
   "cell_type": "code",
   "execution_count": 27,
   "metadata": {},
   "outputs": [
    {
     "name": "stdout",
     "output_type": "stream",
     "text": [
      "Executing with 100 shots...\n",
      "Measured 0 with probability of 100.000%\n",
      "Expectation value: 1.0\n"
     ]
    }
   ],
   "source": [
    "value = evaluate_real_part(SHOTS)\n",
    "print(\"Expectation value:\", value)"
   ]
  },
  {
   "cell_type": "markdown",
   "metadata": {},
   "source": [
    "Show diagram of the quantum circuit"
   ]
  },
  {
   "cell_type": "code",
   "execution_count": 21,
   "metadata": {},
   "outputs": [
    {
     "name": "stdout",
     "output_type": "stream",
     "text": [
      "Opening: https://platform.classiq.io/circuit/93e0e0b0-cf86-4c36-bbc2-437ca4d7695d?version=0.43.3\n"
     ]
    },
    {
     "name": "stdout",
     "output_type": "stream",
     "text": [
      "Opening in existing browser session.\n"
     ]
    }
   ],
   "source": [
    "qprog = synthesize(create_model(main))\n",
    "show(qprog)"
   ]
  }
 ],
 "metadata": {
  "kernelspec": {
   "display_name": "Python 3 (ipykernel)",
   "language": "python",
   "name": "python3"
  },
  "language_info": {
   "codemirror_mode": {
    "name": "ipython",
    "version": 3
   },
   "file_extension": ".py",
   "mimetype": "text/x-python",
   "name": "python",
   "nbconvert_exporter": "python",
   "pygments_lexer": "ipython3",
   "version": "3.11.7"
  }
 },
 "nbformat": 4,
 "nbformat_minor": 4
}
